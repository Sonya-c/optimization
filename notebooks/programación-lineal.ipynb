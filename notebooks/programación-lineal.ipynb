{
 "cells": [
  {
   "cell_type": "markdown",
   "id": "2e9a3eac-2349-4e17-9009-c5e2eb4028c5",
   "metadata": {},
   "source": [
    "# Programación lineal \n",
    "\n",
    "1. Buscar las preguntas para asignar variables\n",
    "2. Buscar la función que se quiere optimizar (expresiones como \"beneficio maximo\", \"coste minimo\", etc)\n",
    "3. leer detenidamente el enunciado para entender, reconociendo las variables e intentando reconocer datos y restricciones. Aveces los datos pueden ser organizados en filas y las restricciones en columnas.\n",
    "4. Escribir las inecuaciones (restricciones) y la función a optimizar (función objetivo)."
   ]
  },
  {
   "cell_type": "code",
   "execution_count": 9,
   "id": "7aa00aa0-6748-4198-b41e-559a39316085",
   "metadata": {
    "tags": []
   },
   "outputs": [],
   "source": [
    "from scipy.optimize import linprog\n",
    "import sympy as sp\n",
    "import matplotlib.pylab as plt"
   ]
  },
  {
   "cell_type": "code",
   "execution_count": null,
   "id": "fe1447f1-e05b-4639-bfe0-48dc5ad86291",
   "metadata": {},
   "outputs": [],
   "source": [
    "f = sp.parse_expr(input(\"f = \"))\n"
   ]
  },
  {
   "cell_type": "code",
   "execution_count": 8,
   "id": "2982e8fb-8377-4721-9aba-b961cd23c3be",
   "metadata": {
    "tags": []
   },
   "outputs": [
    {
     "data": {
      "text/plain": [
       "        message: Optimization terminated successfully. (HiGHS Status 7: Optimal)\n",
       "        success: True\n",
       "         status: 0\n",
       "            fun: -16.818181818181817\n",
       "              x: [ 7.727e+00  4.545e+00]\n",
       "            nit: 0\n",
       "          lower:  residual: [ 7.727e+00  4.545e+00]\n",
       "                 marginals: [ 0.000e+00  0.000e+00]\n",
       "          upper:  residual: [       inf        inf]\n",
       "                 marginals: [ 0.000e+00  0.000e+00]\n",
       "          eqlin:  residual: [ 0.000e+00]\n",
       "                 marginals: [-2.727e-01]\n",
       "        ineqlin:  residual: [ 0.000e+00  1.818e+01  3.364e+00]\n",
       "                 marginals: [-6.364e-01 -0.000e+00 -0.000e+00]\n",
       " mip_node_count: 0\n",
       " mip_dual_bound: 0.0\n",
       "        mip_gap: 0.0"
      ]
     },
     "execution_count": 8,
     "metadata": {},
     "output_type": "execute_result"
    }
   ],
   "source": [
    "obj = [-1, -2] # coeficientes de la función objectivo\n",
    "\n",
    "# inecuaciones\n",
    "ineq_coe = [[ 2,  1], [-4,  5], [ 1, -2]] # coeficientes\n",
    "ineq_ind = [20, 10, 2] # valores independientes \n",
    "\n",
    "eq_coe = [[-1, 5]]  # Green constraint left side\n",
    "eq_ind = [15]       # Green constraint right side\n",
    "\n",
    "bounds = [(0, float(\"inf\")), (0, float(\"inf\"))]\n",
    "\n",
    "opt = linprog(c=obj, A_ub=ineq_coe, b_ub=ineq_ind,A_eq=eq_coe, b_eq=eq_ind, bounds=bounds)\n",
    "opt"
   ]
  }
 ],
 "metadata": {
  "kernelspec": {
   "display_name": "Python 3 (ipykernel)",
   "language": "python",
   "name": "python3"
  },
  "language_info": {
   "codemirror_mode": {
    "name": "ipython",
    "version": 3
   },
   "file_extension": ".py",
   "mimetype": "text/x-python",
   "name": "python",
   "nbconvert_exporter": "python",
   "pygments_lexer": "ipython3",
   "version": "3.10.4"
  }
 },
 "nbformat": 4,
 "nbformat_minor": 5
}
