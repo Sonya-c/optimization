{
 "cells": [
  {
   "cell_type": "markdown",
   "id": "2e9a3eac-2349-4e17-9009-c5e2eb4028c5",
   "metadata": {},
   "source": [
    "# Programación lineal \n",
    "\n",
    "1. Buscar las preguntas para asignar variables\n",
    "2. Buscar la función que se quiere optimizar (expresiones como \"beneficio maximo\", \"coste minimo\", etc)\n",
    "3. leer detenidamente el enunciado para entender, reconociendo las variables e intentando reconocer datos y restricciones. Aveces los datos pueden ser organizados en filas y las restricciones en columnas.\n",
    "4. Escribir las inecuaciones (restricciones) y la función a optimizar (función objetivo)."
   ]
  },
  {
   "cell_type": "markdown",
   "id": "81b6c084-3a0b-4435-925e-8013c5ccecb2",
   "metadata": {
    "tags": []
   },
   "source": [
    "# Regularización \n",
    "todo"
   ]
  }
 ],
 "metadata": {
  "kernelspec": {
   "display_name": "Python 3 (ipykernel)",
   "language": "python",
   "name": "python3"
  },
  "language_info": {
   "codemirror_mode": {
    "name": "ipython",
    "version": 3
   },
   "file_extension": ".py",
   "mimetype": "text/x-python",
   "name": "python",
   "nbconvert_exporter": "python",
   "pygments_lexer": "ipython3",
   "version": "3.10.4"
  }
 },
 "nbformat": 4,
 "nbformat_minor": 5
}
